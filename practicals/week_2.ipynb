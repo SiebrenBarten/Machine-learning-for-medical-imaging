{
 "cells": [
  {
   "cell_type": "markdown",
   "metadata": {},
   "source": [
    "# Under- and overfitting, model selection\n",
    "\n",
    "## Preliminaries\n",
    "\n",
    "In the first set of exercises you had to implement the training and evaluation of the linear regression and $k$-NN methods from scratch in order to practice your `numpy` skills. From this set of exercises onward, you can use the implementations provided in `scikit-learn` or other higher-level libraries. We start this set of exercises by demonstrating some of the features of `scikit-learn`.\n",
    "\n",
    "For example, implementation of linear regression model fitting with an analytical solution for the parameters is provided by the class `sklearn.linar_model.LinearRegression`. You can train a linear regression model in the following way:"
   ]
  },
  {
   "cell_type": "code",
   "execution_count": null,
   "metadata": {},
   "outputs": [
    {
     "data": {
      "text/plain": [
       "LinearRegression()"
      ]
     },
     "execution_count": 1,
     "metadata": {},
     "output_type": "execute_result"
    }
   ],
   "source": [
    "import numpy as np\n",
    "from sklearn import datasets, linear_model\n",
    "\n",
    "#load the diabetes dataset\n",
    "diabetes = datasets.load_diabetes()\n",
    "\n",
    "#use only one feature\n",
    "X = diabetes.data[:, np.newaxis, 2]\n",
    "y = diabetes.target\n",
    "\n",
    "#split the data into training/testing sets\n",
    "X_train = X[:-20]\n",
    "X_test = X[-20:]\n",
    "\n",
    "#split the targets into training/testing sets\n",
    "y_train = y[:-20]\n",
    "y_test = y[-20:]\n",
    "\n",
    "#create linear regression object\n",
    "model = linear_model.LinearRegression()\n",
    "\n",
    "#train the model using the training dataset\n",
    "model.fit(X_train, y_train)"
   ]
  },
  {
   "cell_type": "markdown",
   "metadata": {},
   "source": [
    "Let's visualize the training dataset and the learned regression model."
   ]
  },
  {
   "cell_type": "code",
   "execution_count": 2,
   "metadata": {},
   "outputs": [
    {
     "data": {
      "image/png": "[encoded data removed]",
      "text/plain": [
       "<Figure size 432x288 with 1 Axes>"
      ]
     },
     "metadata": {
      "needs_background": "light"
     },
     "output_type": "display_data"
    }
   ],
   "source": [
    "%matplotlib inline\n",
    "import matplotlib.pyplot as plt\n",
    "\n",
    "fig = plt.figure()\n",
    "plt.plot(X_train, y_train, 'r.', markersize=12)\n",
    "X_edge = np.array([np.min(X_train, 0), np.max(X_train, 0)])\n",
    "plt.plot(X_edge, model.predict(X_edge), 'b-')\n",
    "plt.legend(('Data', 'Linear regression'), loc='lower right')\n",
    "plt.title('Linear regression')\n",
    "plt.xlabel('$x$')\n",
    "plt.ylabel('$y$')\n",
    "plt.show()"
   ]
  },
  {
   "cell_type": "markdown",
   "metadata": {},
   "source": [
    "Once trained, the model can be used to make predictions on the test data:"
   ]
  },
  {
   "cell_type": "code",
   "execution_count": null,
   "metadata": {},
   "outputs": [],
   "source": [
    "#Make predictions using the testing dataset\n",
    "prediction = model.predict(X_test)"
   ]
  },
  {
   "cell_type": "markdown",
   "metadata": {},
   "source": [
    "The next step (not shown here) is to evaluate the performance of the trained model.\n",
    "\n",
    "Note that the `scikit-learn` interface works by first initializing an object from the class that implements the machine learning model (linear regression in this case) and then fitting the initialized model using the data in the training set. Finally, the trained (fitted) model can be used to make predictions on unseen data. In fact, all models implemented in this library follow the same *initialize-fit-predict* programming interface. For example, a $k$-NN classifier can be trained in the following way:"
   ]
  },
  {
   "cell_type": "code",
   "execution_count": null,
   "metadata": {},
   "outputs": [],
   "source": [
    "from sklearn.model_selection import train_test_split\n",
    "from sklearn import datasets, neighbors\n",
    "\n",
    "breast_cancer = datasets.load_breast_cancer()\n",
    "\n",
    "X = breast_cancer.data\n",
    "y = breast_cancer.target\n",
    "\n",
    "#make use of the train_test_split() utility function instead\n",
    "#of manually dividing the data\n",
    "X_train, X_test, y_train, y_test = train_test_split(X, y, stratify=y, random_state=40)\n",
    "#initialize a 3-NN classifier\n",
    "model = neighbors.KNeighborsClassifier(n_neighbors=3)\n",
    "\n",
    "#train the model using the training dataset\n",
    "model.fit(X_train, y_train)\n",
    "\n",
    "#make predictions using the testing dataset\n",
    "prediction = model.predict(X_test)"
   ]
  },
  {
   "cell_type": "markdown",
   "metadata": {},
   "source": [
    "Note that the features in the breast cancer dataset have different scales (some have on average very small absolute values, and some very large), which means that the distance metric used by $k$-NN will be dominated by the features with large values. You can use any of the number of feature transformation methods implemented in `scikit-learn` to scale the features. For example, you can use the `sklearn.preprocessing.StandardScaler` method to transform all features to a have a zero mean and unit variance:"
   ]
  },
  {
   "cell_type": "code",
   "execution_count": 5,
   "metadata": {},
   "outputs": [],
   "source": [
    "from sklearn.preprocessing import StandardScaler\n",
    "\n",
    "scaler = StandardScaler()\n",
    "scaler.fit(X_train)\n",
    "\n",
    "X_train_scaled = scaler.transform(X_train)"
   ]
  },
  {
   "cell_type": "markdown",
   "metadata": {},
   "source": [
    "The scaler has its own parameters which are the means and standard deviations of the features estimated from the training set. If you train a model with the scaled features, you will have to remember to also apply the scaling transformation every time you make a prediction on new unseen and unscaled data. This is somewhat prone to error. One option for making the code more robust is to create a processing pipeline that includes the scaling and $k$-NN models in a sequence:"
   ]
  },
  {
   "cell_type": "code",
   "execution_count": null,
   "metadata": {},
   "outputs": [],
   "source": [
    "from sklearn.pipeline import Pipeline\n",
    "\n",
    "knn = neighbors.KNeighborsClassifier(n_neighbors=3)\n",
    "\n",
    "model = Pipeline([\n",
    "                 (\"scaler\", scaler),\n",
    "                 (\"knn\", knn)\n",
    "                ])\n",
    "\n",
    "#train the model using the training dataset\n",
    "model.fit(X_train, y_train)\n",
    "\n",
    "#make predictions using the testing dataset\n",
    "prediction = model.predict(X_test)\n"
   ]
  },
  {
   "cell_type": "markdown",
   "metadata": {},
   "source": [
    "If you are curious, more information about the design of the `scikit-learn` application programming interface (API) can be found [in this paper](https://arxiv.org/pdf/1309.0238.pdf). "
   ]
  },
  {
   "cell_type": "markdown",
   "metadata": {},
   "source": [
    "## Exercises\n",
    "\n",
    "### Bias-variance decomposition\n",
    "\n",
    "Show that the mean squared error of the estimate of a parameter can be decomposed into an expression that includes both the bias and variance (Eq. 5.53-5.54 in \"Deep learning\" by Goodfellow et al.). "
   ]
  },
  {
   "cell_type": "markdown",
   "metadata": {
    "vscode": {
     "languageId": "latex"
    }
   },
   "source": [
    "**Bias–variance decomposition (all steps, clear & simple)**\n",
    "\n",
    "1. **Define the three quantities.**\n",
    "\n",
    "$$\n",
    "\\operatorname{Bias}(\\hat{\\theta})=\\mathbb{E}[\\hat{\\theta}]-\\theta,\\qquad\n",
    "\\operatorname{Var}(\\hat{\\theta})=\\mathbb{E}\\!\\left[(\\hat{\\theta}-\\mathbb{E}[\\hat{\\theta}])^{2}\\right],\\qquad\n",
    "\\operatorname{MSE}(\\hat{\\theta})=\\mathbb{E}\\!\\left[(\\hat{\\theta}-\\theta)^{2}\\right].\n",
    "$$\n",
    "\n",
    "2. **Start from the definition of MSE.**\n",
    "\n",
    "$$\n",
    "\\operatorname{MSE}(\\hat{\\theta})=\\mathbb{E}\\!\\left[(\\hat{\\theta}-\\theta)^{2}\\right].\n",
    "$$\n",
    "\n",
    "3. **Add and subtract the mean of the estimator inside the square.**\n",
    "\n",
    "$$\n",
    "\\operatorname{MSE}(\\hat{\\theta})\n",
    "=\\mathbb{E}\\!\\left[\\big(\\hat{\\theta}-\\mathbb{E}[\\hat{\\theta}]+\\mathbb{E}[\\hat{\\theta}]-\\theta\\big)^{2}\\right].\n",
    "$$\n",
    "\n",
    "4. **Name the two pieces to expand easily.**\n",
    "   Let\n",
    "\n",
    "$$\n",
    "a=\\hat{\\theta}-\\mathbb{E}[\\hat{\\theta}],\\qquad b=\\mathbb{E}[\\hat{\\theta}]-\\theta\n",
    "$$\n",
    "\n",
    "(so $a$ is random with mean $0$; $b$ is a constant).\n",
    "\n",
    "5. **Expand the square $(a+b)^2$.**\n",
    "\n",
    "$$\n",
    "\\operatorname{MSE}(\\hat{\\theta})=\\mathbb{E}[a^{2}]+2\\,\\mathbb{E}[a]\\,b+b^{2}.\n",
    "$$\n",
    "\n",
    "6. **Show the cross term is zero (linearity of expectation).**\n",
    "\n",
    "$$\n",
    "\\mathbb{E}[a]=\\mathbb{E}\\!\\left[\\hat{\\theta}-\\mathbb{E}[\\hat{\\theta}]\\right]\n",
    "=\\mathbb{E}[\\hat{\\theta}]-\\mathbb{E}[\\hat{\\theta}]=0\n",
    "\\;\\;\\Rightarrow\\;\\; 2\\,\\mathbb{E}[a]\\,b=0.\n",
    "$$\n",
    "\n",
    "7. **Identify the variance term.**\n",
    "\n",
    "$$\n",
    "\\mathbb{E}[a^{2}]\n",
    "=\\mathbb{E}\\!\\left[(\\hat{\\theta}-\\mathbb{E}[\\hat{\\theta}])^{2}\\right]\n",
    "=\\operatorname{Var}(\\hat{\\theta}).\n",
    "$$\n",
    "\n",
    "8. **Identify the squared bias term.**\n",
    "\n",
    "$$\n",
    "b^{2}=(\\mathbb{E}[\\hat{\\theta}]-\\theta)^{2}\n",
    "=\\operatorname{Bias}(\\hat{\\theta})^{2}.\n",
    "$$\n",
    "\n",
    "9. **Combine the pieces (final result).**\n",
    "\n",
    "$$\n",
    "\\boxed{\\operatorname{MSE}(\\hat{\\theta})=\\operatorname{Var}(\\hat{\\theta})+\\operatorname{Bias}(\\hat{\\theta})^{2}}.\n",
    "$$\n",
    "\n"
   ]
  },
  {
   "cell_type": "markdown",
   "metadata": {},
   "source": [
    "### Polynomial regression\n",
    "\n",
    "For this exercise we will be using generated data to better show the effects of the different polynomial orders.\n",
    "The data is created using the make_polynomial_regression function."
   ]
  },
  {
   "cell_type": "code",
   "execution_count": null,
   "metadata": {},
   "outputs": [
    {
     "data": {
      "text/plain": [
       "[<matplotlib.lines.Line2D at 0x1cd5bfbe320>]"
      ]
     },
     "execution_count": 10,
     "metadata": {},
     "output_type": "execute_result"
    },
    {
     "data": {
      "image/png": "[encoded data removed]",
      "text/plain": [
       "<Figure size 432x288 with 1 Axes>"
      ]
     },
     "metadata": {
      "needs_background": "light"
     },
     "output_type": "display_data"
    }
   ],
   "source": [
    "%matplotlib inline\n",
    "\n",
    "def generate_dataset(n=100, degree=1, noise=1, factors=None):\n",
    "    #Generates a dataset by adding random noise to a randomly\n",
    "    #generated polynomial function.\n",
    "    \n",
    "    x = np.random.uniform(low=-1, high=1, size=n)\n",
    "    \n",
    "    factors = np.random.uniform(0, 10, degree+1)\n",
    "    \n",
    "    y = np.zeros(x.shape)\n",
    "    \n",
    "    for idx in range(degree+1):\n",
    "        y += factors[idx] * (x ** idx)\n",
    "\n",
    "    #add noise\n",
    "    y += np.random.normal(-noise, noise, n)\n",
    "    \n",
    "    return x, y\n",
    "\n",
    "#load generated data\n",
    "np.random.seed(0)\n",
    "\n",
    "X, y = generate_dataset(n=100, degree=4, noise=1.5)\n",
    "\n",
    "plt.plot(X, y, 'r.', markersize=12)"
   ]
  },
  {
   "cell_type": "markdown",
   "metadata": {},
   "source": [
    "Implement polynomial regression using the `sklearn.preprocessing.PolynomialFeatures` transformation. Using the `sklearn.grid_search.GridSearchCV` class, perform a grid search of the polynomial order hyperparameter space with cross-validation and report the performance on an independent test set.\n",
    "\n",
    "Plot a learning curve that show the validation accuracy as a function of the polynomial order. \n",
    "\n",
    "<p><font color='#d19b9bff'>Which models have a high bias, and which models have high variance? Motivate your answer.</font><p>\n",
    "    \n",
    "Repeat this experiment, this time using the diabetes dataset instead of the generated data."
   ]
  },
  {
   "cell_type": "markdown",
   "metadata": {},
   "source": [
    "### Answer\n",
    "\n",
    "**Generated data (true poly ≈ 4):**\n",
    "\n",
    "* **High bias:** degrees **1–2** (can’t capture curvature → low CV $R^2$).\n",
    "* **Best trade-off:** around **degree 3** (peak CV $R^2$, stable).\n",
    "* **High variance:** degrees **≥ 7–8** (CV $R^2$ drops, error bars grow → overfitting).\n",
    "\n",
    "**Diabetes (BMI only):**\n",
    "\n",
    "* **High bias:** **degree 1** (best CV/Test $R^2$ ≈ 0.30 → much unexplained).\n",
    "* **High variance:** degrees **≥ 7–10** (CV $R^2$ often **negative** → worse than mean; big variance across folds).\n",
    "\n",
    "low degree = underfitting (bias), very high degree = overfitting (variance). Choose the degree where **CV $R^2$** peaks.\n"
   ]
  },
  {
   "cell_type": "code",
   "execution_count": null,
   "metadata": {},
   "outputs": [
    {
     "name": "stdout",
     "output_type": "stream",
     "text": [
      "Generated data\n",
      "Best degree: 3\n",
      "CV best mean R^2: 0.867\n",
      "Test R^2: 0.835\n"
     ]
    },
    {
     "data": {
      "image/png": "[encoded data removed]",
      "text/plain": [
       "<Figure size 432x288 with 1 Axes>"
      ]
     },
     "metadata": {
      "needs_background": "light"
     },
     "output_type": "display_data"
    },
    {
     "name": "stdout",
     "output_type": "stream",
     "text": [
      "\n",
      "Diabetes (BMI only)\n",
      "Best degree: 1\n",
      "CV best mean R^2: 0.303\n",
      "Test R^2: 0.317\n"
     ]
    },
    {
     "data": {
      "image/png": "[encoded data removed]",
      "text/plain": [
       "<Figure size 432x288 with 1 Axes>"
      ]
     },
     "metadata": {
      "needs_background": "light"
     },
     "output_type": "display_data"
    }
   ],
   "source": [
    "import numpy as np\n",
    "import matplotlib.pyplot as plt\n",
    "\n",
    "from sklearn.model_selection import train_test_split, GridSearchCV\n",
    "from sklearn.preprocessing import PolynomialFeatures\n",
    "from sklearn.linear_model import LinearRegression\n",
    "from sklearn.pipeline import Pipeline\n",
    "from sklearn.metrics import r2_score\n",
    "from sklearn.datasets import load_diabetes\n",
    "\n",
    "#1) Generated data\n",
    "np.random.seed(0)\n",
    "X, y = generate_dataset(n=100, degree=4, noise=1.5)  #keep above function exactly as given\n",
    "X = X.reshape(-1, 1)  #sklearn expects 2D shape: (n_samples, n_features)\n",
    "\n",
    "#make split so we can report performance on unseen data\n",
    "X_tr, X_te, y_tr, y_te = train_test_split(X, y, test_size=0.25, random_state=42)\n",
    "\n",
    "#Pipeline: create polynomial features, then run ordinary linear regression\n",
    "pipe = Pipeline([\n",
    "    (\"poly\", PolynomialFeatures(include_bias=False)),  #no manual bias term; LinearRegression has an intercept\n",
    "    (\"lin\", LinearRegression())\n",
    "])\n",
    "\n",
    "#Grid search over the polynomial degree with 5fold CV (CV == cross-validation)\n",
    "param_grid = {\"poly__degree\": list(range(1, 16))}  #1..15 is probably enough to see under/overfitting\n",
    "gcv = GridSearchCV(\n",
    "    pipe, param_grid, scoring=\"r2\", cv=5, n_jobs=-1, return_train_score=True\n",
    ")\n",
    "gcv.fit(X_tr, y_tr)  #fit only on training; CV happens inside \n",
    "\n",
    "print(\"Generated data\")\n",
    "print(\"Best degree:\", gcv.best_params_[\"poly__degree\"])                  #degree selected by CV\n",
    "print(\"CV best mean R^2: {:.3f}\".format(gcv.best_score_))                #mean CV R^2 across folds\n",
    "print(\"Test R^2: {:.3f}\".format(r2_score(y_te, gcv.predict(X_te))))      #generalization on the made test set\n",
    "\n",
    "#Plot validation performance vs degree (with error bars)\n",
    "deg = param_grid[\"poly__degree\"]\n",
    "val_mean = [gcv.cv_results_[\"mean_test_score\"][np.where(gcv.cv_results_[\"param_poly__degree\"]==d)][0] for d in deg]\n",
    "val_std  = [gcv.cv_results_[\"std_test_score\"][np.where(gcv.cv_results_[\"param_poly__degree\"]==d)][0]  for d in deg]\n",
    "\n",
    "plt.figure()\n",
    "plt.errorbar(deg, val_mean, yerr=val_std, marker=\"o\")\n",
    "plt.xlabel(\"Polynomial degree\")\n",
    "plt.ylabel(\"Validation R² (CV mean ± sd)\")\n",
    "plt.title(\"Generated data: validation vs degree\")\n",
    "plt.grid(True)\n",
    "plt.show()\n",
    "\n",
    "#2) Diabetes dataset (BMI feature, 1-D polynomial)\n",
    "diab = load_diabetes()\n",
    "bmi_idx = diab.feature_names.index(\"bmi\")  #pick a single feature to keep it comparable to the generated dataset\n",
    "X_bmi = diab.data[:, [bmi_idx]]\n",
    "y = diab.target\n",
    "\n",
    "#same workflow: split, grid search, reprot test performance\n",
    "X_tr, X_te, y_tr, y_te = train_test_split(X_bmi, y, test_size=0.25, random_state=42)\n",
    "\n",
    "gcv2 = GridSearchCV(\n",
    "    pipe,\n",
    "    param_grid={\"poly__degree\": list(range(1, 16))},  #keep degrees the same as above for comparability\n",
    "    scoring=\"r2\",\n",
    "    cv=5,\n",
    "    n_jobs=-1,\n",
    "    return_train_score=True\n",
    ")\n",
    "gcv2.fit(X_tr, y_tr)\n",
    "\n",
    "print(\"\\nDiabetes (BMI only)\")\n",
    "print(\"Best degree:\", gcv2.best_params_[\"poly__degree\"])\n",
    "print(\"CV best mean R^2: {:.3f}\".format(gcv2.best_score_))\n",
    "print(\"Test R^2: {:.3f}\".format(r2_score(y_te, gcv2.predict(X_te))))\n",
    "\n",
    "#Plot validation performance vs degree for diabetes\n",
    "deg2 = list(range(1, 16))\n",
    "val_mean2 = [gcv2.cv_results_[\"mean_test_score\"][np.where(gcv2.cv_results_[\"param_poly__degree\"]==d)][0] for d in deg2]\n",
    "val_std2  = [gcv2.cv_results_[\"std_test_score\"][np.where(gcv2.cv_results_[\"param_poly__degree\"]==d)][0]  for d in deg2]\n",
    "\n",
    "plt.figure()\n",
    "plt.errorbar(deg2, val_mean2, yerr=val_std2, marker=\"o\")\n",
    "plt.ylim(-1,1) # set y-limits to better see the differences\n",
    "plt.xlabel(\"Polynomial degree\")\n",
    "plt.ylabel(\"Validation R² (CV mean ± sd)\")\n",
    "plt.title(\"Diabetes (BMI): validation vs degree\")\n",
    "plt.grid(True)\n",
    "plt.show()\n"
   ]
  },
  {
   "cell_type": "markdown",
   "metadata": {},
   "source": [
    "### ROC curve analysis\n",
    "A common method to evaluate binary classifiers is the receiver operating characteristic (ROC) curve. Similar to the week one practicals, implement a $k$-NN classifier on the breast cancer dataset, however, his time use the $k$-NN pipeline from the preliminary. Train the model for different values of $k$ and evaluate their respective performance with an ROC curve, use the `sklearn.metrics.roc_curve` function."
   ]
  },
  {
   "cell_type": "code",
   "execution_count": 20,
   "metadata": {},
   "outputs": [
    {
     "data": {
      "image/png": "[encoded data removed]",
      "text/plain": [
       "<Figure size 576x432 with 1 Axes>"
      ]
     },
     "metadata": {
      "needs_background": "light"
     },
     "output_type": "display_data"
    },
    {
     "name": "stdout",
     "output_type": "stream",
     "text": [
      "AUC per k:\n",
      "  k= 1: AUC=0.96447\n",
      "  k= 3: AUC=0.99769\n",
      "  k= 5: AUC=0.99801\n",
      "  k= 7: AUC=0.99937\n",
      "  k= 9: AUC=0.99948\n",
      "  k=11: AUC=0.99916\n",
      "  k=13: AUC=0.99832\n",
      "  k=15: AUC=0.99874\n",
      "  k=17: AUC=0.99895\n",
      "  k=19: AUC=0.99937\n",
      "  k=21: AUC=0.99948\n",
      "  k=23: AUC=0.99906\n",
      "\n",
      "Best k by AUC: k=9 (AUC=0.99948)\n"
     ]
    }
   ],
   "source": [
    "from sklearn.metrics import roc_curve, auc\n",
    "from sklearn.model_selection import train_test_split, StratifiedKFold, cross_val_score\n",
    "\n",
    "breast_cancer = datasets.load_breast_cancer()\n",
    "X = breast_cancer.data\n",
    "y = breast_cancer.target\n",
    "\n",
    "X_train, X_test, y_train, y_test = train_test_split(X, y, stratify=y, random_state=40)\n",
    "\n",
    "\n",
    "def plot_roc(X_train, X_test, y_train, y_test, k_values):\n",
    "    ''' function to plot ROC curves for a list of k values'''\n",
    "    scaler = StandardScaler()\n",
    "    aucs = {}                   #dictionary to store AUC values for each k\n",
    "\n",
    "    plt.figure(figsize=(8, 6))\n",
    "    \n",
    "    for k in k_values:\n",
    "        #build pipeline with scaler + knn\n",
    "        knn = neighbors.KNeighborsClassifier(n_neighbors=k)\n",
    "        model = Pipeline([\n",
    "                 (\"scaler\", scaler),\n",
    "                 (\"knn\", knn)\n",
    "                ])\n",
    "        \n",
    "        model.fit(X_train, y_train)\n",
    "        \n",
    "        #predict probabilities\n",
    "        y_score = model.predict_proba(X_test)[:, 1]\n",
    "        \n",
    "        #compute ROC + AUC\n",
    "        fpr, tpr, _ = roc_curve(y_test, y_score)\n",
    "        roc_auc = auc(fpr, tpr)\n",
    "        aucs[k] = roc_auc\n",
    "        \n",
    "        #plot ROC curve\n",
    "        plt.plot(fpr, tpr, label=f\"k={k} (AUC={roc_auc:.3f})\")\n",
    "\n",
    "    #add propability line (AUC=0.5)\n",
    "    plt.plot([0, 1], [0, 1], linestyle=\"--\", color=\"black\")\n",
    "    plt.title(\"ROC Curves for k-NN\")\n",
    "    plt.xlabel(\"False Positive Rate\")\n",
    "    plt.ylabel(\"True Positive Rate\")\n",
    "    plt.legend(loc=\"lower right\", fontsize=8)\n",
    "    plt.tight_layout()\n",
    "    plt.show()\n",
    "    \n",
    "    #print the area under the curve for each k\n",
    "    print(\"AUC per k:\")\n",
    "    for k, score in aucs.items():\n",
    "        print(f\"  k={k:>2}: AUC={score:.5f}\")\n",
    "    \n",
    "    best_k = max(aucs, key=aucs.get)\n",
    "    print(f\"\\nBest k by AUC: k={best_k} (AUC={aucs[best_k]:.5f})\")\n",
    "    return aucs\n",
    "\n",
    "\n",
    "#define k values\n",
    "k_values = list(range(1, 25, 2)) #only odd values of k to avoid ties\n",
    "\n",
    "aucs = plot_roc(X_train, X_test, y_train, y_test, k_values)\n",
    "\n"
   ]
  },
  {
   "cell_type": "markdown",
   "metadata": {},
   "source": [
    "### $F_1$ score and Dice similarity coefficient\n",
    "\n",
    "The Dice similarity coefficient is a very popular evaluation measure for image segmentation applications. Assuming that $A$ is the ground truth segmentation of an object represented as a binary image, and $B$ is the binary output of an image segmentation method, the Dice similarity coefficient is computed as:\n",
    "\n",
    "$\\text{Dice}(A,B) = \\frac{2|A\\cap B|}{|A| + |B|}$\n",
    "\n",
    "where $|\\cdot|$ represents the cardinality of the objects (e.g. $|A|$ is the number of non-zero pixels in the ground truth segmentation).\n",
    "\n",
    "For example, the Dice similarity can be computed in the following way:"
   ]
  },
  {
   "cell_type": "code",
   "execution_count": 21,
   "metadata": {},
   "outputs": [
    {
     "name": "stdout",
     "output_type": "stream",
     "text": [
      "0.3402777777777778\n"
     ]
    },
    {
     "data": {
      "image/png": "[encoded data removed]",
      "text/plain": [
       "<Figure size 432x288 with 1 Axes>"
      ]
     },
     "metadata": {
      "needs_background": "light"
     },
     "output_type": "display_data"
    }
   ],
   "source": [
    "#generate some test objecys\n",
    "A = np.zeros((32, 32))\n",
    "A[10:-10, 10:-10] = 1\n",
    "B = np.zeros((32, 32))\n",
    "B[5:-15, 5:-15] = 1\n",
    "\n",
    "dice = 2*np.sum(A*B)/(np.sum(A)+np.sum(B))\n",
    "\n",
    "#display the results\n",
    "plt.plot()\n",
    "plt.imshow(A)\n",
    "plt.imshow(B, alpha=0.7)\n",
    "\n",
    "print(dice)"
   ]
  },
  {
   "cell_type": "markdown",
   "metadata": {},
   "source": [
    "<p><font color='#770a0a'>Show that the $F_1$ score, which is the harmonic mean of precision and recall, is equivalent to the Dice similarity coefficient</font><p>"
   ]
  },
  {
   "cell_type": "code",
   "execution_count": 22,
   "metadata": {},
   "outputs": [
    {
     "name": "stdout",
     "output_type": "stream",
     "text": [
      "The dice similarity coefficient is: 0.989010989010989\n",
      "The F1-score is:                    0.989010989010989\n"
     ]
    }
   ],
   "source": [
    "from sklearn.metrics import f1_score\n",
    "from sklearn.pipeline import Pipeline\n",
    "\n",
    "#Lets use the KNN model as an example to determine both the dice similarity coefficient and the F1-score\n",
    "#We will use the breast cancer dataset again since it is a classification problem (easy to define true positives, false positives, etc.)\n",
    "\n",
    "X_cancer = breast_cancer.data\n",
    "y_cancer = breast_cancer.target\n",
    "\n",
    "X_train, X_test, y_train, y_test = train_test_split(X_cancer, y_cancer, stratify=y_cancer, random_state=40)\n",
    "\n",
    "#train model in the same way as the examle in one of the previous cells\n",
    "knn = neighbors.KNeighborsClassifier(n_neighbors=3)\n",
    "\n",
    "model = Pipeline([\n",
    "                 (\"scaler\", scaler),\n",
    "                 (\"knn\", knn)\n",
    "                ])\n",
    "\n",
    "model.fit(X_train, y_train)\n",
    "\n",
    "y_pred = model.predict(X_test)\n",
    "\n",
    "#We now know the predicted and true y_test data, lets first compute the dice similarity coefficient\n",
    "dice = 2*np.sum(y_test*y_pred)/(np.sum(y_test)+np.sum(y_pred))\n",
    "\n",
    "#Now lets compute the F1-score using the sklearn function\n",
    "f1 = f1_score(y_test, y_pred)\n",
    "\n",
    "#Now display the results\n",
    "print(f\"The dice similarity coefficient is: {dice}\")\n",
    "print(f\"The F1-score is:                    {f1}\")"
   ]
  },
  {
   "cell_type": "markdown",
   "metadata": {},
   "source": [
    "***Conclusion***: The dice coefficient is indeed equal tot the F1 score, which makes sense if you look at the formulas for the dice coefficient and the f1 score. The formula for the f1 score is: \n",
    "\n",
    "$$\n",
    "F_1 = \\frac{2 \\cdot TP}{2 \\cdot TP + FP + FN}\n",
    "$$\n",
    "\n",
    "The f1 score is a function of the true positives, false positives and and false negatives. The upper part the devision in the f1 score formula contains all the data points for which the predicted y-value is equal to the true one (this is also true for the dice formula (${2|A\\cap B|}$)). The lower part o is a collection of all the other elements: the TP's, FP's and FN's (note: no TN since this model is focussed on prediciting the TP's as good as possible), the lower part of the dice equation does exactly the same (${|A| + |B|}$). Mathematically speaking, both formulas are the same so it makes sense that both methods have the same result."
   ]
  }
 ],
 "metadata": {
  "kernelspec": {
   "display_name": "8dm50",
   "language": "python",
   "name": "python3"
  },
  "language_info": {
   "codemirror_mode": {
    "name": "ipython",
    "version": 3
   },
   "file_extension": ".py",
   "mimetype": "text/x-python",
   "name": "python",
   "nbconvert_exporter": "python",
   "pygments_lexer": "ipython3",
   "version": "3.6.13"
  },
  "nbdime-conflicts": {
   "local_diff": [
    {
     "diff": [
      {
       "diff": [
        {
         "key": 0,
         "op": "addrange",
         "valuelist": [
          "3.6.13"
         ]
        },
        {
         "key": 0,
         "length": 1,
         "op": "removerange"
        }
       ],
       "key": "version",
       "op": "patch"
      }
     ],
     "key": "language_info",
     "op": "patch"
    }
   ],
   "remote_diff": [
    {
     "diff": [
      {
       "diff": [
        {
         "key": 0,
         "op": "addrange",
         "valuelist": [
          "3.11.5"
         ]
        },
        {
         "key": 0,
         "length": 1,
         "op": "removerange"
        }
       ],
       "key": "version",
       "op": "patch"
      }
     ],
     "key": "language_info",
     "op": "patch"
    }
   ]
  }
 },
 "nbformat": 4,
 "nbformat_minor": 2
}
